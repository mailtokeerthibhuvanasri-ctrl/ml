{
  "nbformat": 4,
  "nbformat_minor": 0,
  "metadata": {
    "colab": {
      "provenance": [],
      "authorship_tag": "ABX9TyNMWZ/aJU4Vz79CVvbnfQJF",
      "include_colab_link": true
    },
    "kernelspec": {
      "name": "python3",
      "display_name": "Python 3"
    },
    "language_info": {
      "name": "python"
    }
  },
  "cells": [
    {
      "cell_type": "markdown",
      "metadata": {
        "id": "view-in-github",
        "colab_type": "text"
      },
      "source": [
        "<a href=\"https://colab.research.google.com/github/mailtokeerthibhuvanasri-ctrl/ml/blob/main/numpy.ipynb\" target=\"_parent\"><img src=\"https://colab.research.google.com/assets/colab-badge.svg\" alt=\"Open In Colab\"/></a>"
      ]
    },
    {
      "cell_type": "code",
      "execution_count": 2,
      "metadata": {
        "id": "iqwSLluq5Bvs"
      },
      "outputs": [],
      "source": [
        "import numpy as np"
      ]
    },
    {
      "cell_type": "markdown",
      "source": [
        "numpy array creation"
      ],
      "metadata": {
        "id": "KnHvO47l5Pyz"
      }
    },
    {
      "cell_type": "code",
      "source": [
        "#create a list named list1\n",
        "list1 = [2,4,6,8]\n",
        "\n",
        "#create numpy array using list1\n",
        "array1 = np.array(list1)\n",
        "\n",
        "print(array1.dtype)"
      ],
      "metadata": {
        "colab": {
          "base_uri": "https://localhost:8080/"
        },
        "id": "XqQViiMC5S_b",
        "outputId": "1ee9c8ec-e9be-4d16-be49-4f17a0562377"
      },
      "execution_count": 3,
      "outputs": [
        {
          "output_type": "stream",
          "name": "stdout",
          "text": [
            "int64\n"
          ]
        }
      ]
    },
    {
      "cell_type": "markdown",
      "source": [
        "Instead of creating list and using list variable with the np.array()fun,"
      ],
      "metadata": {
        "id": "PRJ5MzMP6I0Y"
      }
    },
    {
      "cell_type": "code",
      "source": [
        "array1 = np.array([2,4,6,8])\n",
        "print(array1.dtype)"
      ],
      "metadata": {
        "colab": {
          "base_uri": "https://localhost:8080/"
        },
        "id": "gB8JYPwd6SUV",
        "outputId": "85658691-0a3b-4380-d408-f65d09f3d31a"
      },
      "execution_count": 4,
      "outputs": [
        {
          "output_type": "stream",
          "name": "stdout",
          "text": [
            "int64\n"
          ]
        }
      ]
    },
    {
      "cell_type": "markdown",
      "source": [
        "create 2d array"
      ],
      "metadata": {
        "id": "dItEOKWL6ith"
      }
    },
    {
      "cell_type": "code",
      "source": [
        "array2 = np.array([[1,2,3,4],\n",
        "      [5,6,7,8]])\n",
        "print(array2.dtype)"
      ],
      "metadata": {
        "colab": {
          "base_uri": "https://localhost:8080/"
        },
        "id": "MZvAb5sL6lsm",
        "outputId": "f64480cc-a66e-49ed-9439-fb6bc3663841"
      },
      "execution_count": 5,
      "outputs": [
        {
          "output_type": "stream",
          "name": "stdout",
          "text": [
            "int64\n"
          ]
        }
      ]
    },
    {
      "cell_type": "markdown",
      "source": [
        "create 3d array"
      ],
      "metadata": {
        "id": "CEFHHA0p7TXq"
      }
    },
    {
      "cell_type": "code",
      "source": [
        "array3 = np.array([[[1,2,3,4,],\n",
        "                    [5,6,7,8],\n",
        "                    [9,10,11,12]],\n",
        "                  [[13,14,15,16],\n",
        "                   [17,18,19,20],\n",
        "                   [21,22,23,24]]])\n",
        "print(array3.dtype)"
      ],
      "metadata": {
        "colab": {
          "base_uri": "https://localhost:8080/"
        },
        "id": "izz6-z5j7V0r",
        "outputId": "fab86f6a-fac9-4eb8-fef2-c7972cdad14c"
      },
      "execution_count": 6,
      "outputs": [
        {
          "output_type": "stream",
          "name": "stdout",
          "text": [
            "int64\n"
          ]
        }
      ]
    },
    {
      "cell_type": "markdown",
      "source": [
        "check the dimensions of numpy array"
      ],
      "metadata": {
        "id": "hv9lcDhH8-vY"
      }
    },
    {
      "cell_type": "code",
      "source": [
        "print(array1.ndim)\n",
        "print(array2.ndim)\n",
        "print(array3.ndim)"
      ],
      "metadata": {
        "colab": {
          "base_uri": "https://localhost:8080/"
        },
        "id": "JZAjYe8z9FhS",
        "outputId": "567bc659-eecc-42db-8316-53a0020c46df"
      },
      "execution_count": 7,
      "outputs": [
        {
          "output_type": "stream",
          "name": "stdout",
          "text": [
            "1\n",
            "2\n",
            "3\n"
          ]
        }
      ]
    },
    {
      "cell_type": "markdown",
      "source": [
        "size of array"
      ],
      "metadata": {
        "id": "5yuXkn3a9fsT"
      }
    },
    {
      "cell_type": "code",
      "source": [
        "print(array1.size)\n",
        "print(array2.size)\n",
        "print(array3.size)"
      ],
      "metadata": {
        "colab": {
          "base_uri": "https://localhost:8080/"
        },
        "id": "5Oo2JP0C9fMv",
        "outputId": "6db791e5-a946-46e3-b783-be446c968cdd"
      },
      "execution_count": 8,
      "outputs": [
        {
          "output_type": "stream",
          "name": "stdout",
          "text": [
            "4\n",
            "8\n",
            "24\n"
          ]
        }
      ]
    },
    {
      "cell_type": "markdown",
      "source": [
        "shape"
      ],
      "metadata": {
        "id": "Q6F_7E05-PW3"
      }
    },
    {
      "cell_type": "code",
      "source": [
        "array1 = np.array([[1,2,3,],\n",
        "                   [6,7,8]])\n",
        "print(array1.shape)"
      ],
      "metadata": {
        "colab": {
          "base_uri": "https://localhost:8080/"
        },
        "id": "h_5OrZs9-R2-",
        "outputId": "c53a0785-5c93-4272-a169-ee04dbe9d928"
      },
      "execution_count": 9,
      "outputs": [
        {
          "output_type": "stream",
          "name": "stdout",
          "text": [
            "(2, 3)\n"
          ]
        }
      ]
    },
    {
      "cell_type": "markdown",
      "source": [
        "Numpy Array itemsize Attribute"
      ],
      "metadata": {
        "id": "GLz2yOut-x69"
      }
    },
    {
      "cell_type": "code",
      "source": [
        "array1 = np.array([[6,7,8,10,13]])\n",
        "array2 = np.array([6,7,8,10,13], dtype=np.int32)\n",
        "print(array1.itemsize)\n",
        "print(array2.itemsize)"
      ],
      "metadata": {
        "colab": {
          "base_uri": "https://localhost:8080/"
        },
        "id": "XCbpl16P-3j3",
        "outputId": "022b1fa8-2cc2-453e-b3bc-c5765af3be97"
      },
      "execution_count": 10,
      "outputs": [
        {
          "output_type": "stream",
          "name": "stdout",
          "text": [
            "8\n",
            "4\n"
          ]
        }
      ]
    },
    {
      "cell_type": "markdown",
      "source": [
        "numpy array data add location"
      ],
      "metadata": {
        "id": "2e9qQ6sH_8li"
      }
    },
    {
      "cell_type": "code",
      "source": [
        "array1 = np.array([6,7,8])\n",
        "array2 = np.array([[1,2,3],\n",
        "                   [6,7,8]])\n",
        "print(array1.data)\n",
        "print(array2.data)"
      ],
      "metadata": {
        "colab": {
          "base_uri": "https://localhost:8080/"
        },
        "id": "ltRsDyIuAB7s",
        "outputId": "1f74c5cd-0f54-4042-ea43-a4164599d508"
      },
      "execution_count": 11,
      "outputs": [
        {
          "output_type": "stream",
          "name": "stdout",
          "text": [
            "<memory at 0x7c027790e200>\n",
            "<memory at 0x7c027798e190>\n"
          ]
        }
      ]
    },
    {
      "cell_type": "markdown",
      "source": [
        "using index\n"
      ],
      "metadata": {
        "id": "_A3m_i3xAgAp"
      }
    },
    {
      "cell_type": "code",
      "source": [
        "array1 = np.array([1,3,5,7,9])\n",
        "print(array1[-1])\n",
        "print(array1[2])\n",
        "print(array1[4])"
      ],
      "metadata": {
        "colab": {
          "base_uri": "https://localhost:8080/"
        },
        "id": "EVYeiaB_AiMz",
        "outputId": "cd023d5e-a585-49ab-ecaa-cd18406077d9"
      },
      "execution_count": 12,
      "outputs": [
        {
          "output_type": "stream",
          "name": "stdout",
          "text": [
            "9\n",
            "5\n",
            "9\n"
          ]
        }
      ]
    },
    {
      "cell_type": "markdown",
      "source": [
        "mean"
      ],
      "metadata": {
        "id": "OUn6H-KXy0Qf"
      }
    },
    {
      "cell_type": "code",
      "source": [
        "marks = np.array([10,20,30,40,50])\n",
        "mean = np.mean(marks)\n",
        "print(mean)"
      ],
      "metadata": {
        "colab": {
          "base_uri": "https://localhost:8080/"
        },
        "id": "snibcOqNy1ls",
        "outputId": "8c066663-b7ea-45cb-ed8f-fc25aaffe035"
      },
      "execution_count": 14,
      "outputs": [
        {
          "output_type": "stream",
          "name": "stdout",
          "text": [
            "30.0\n"
          ]
        }
      ]
    },
    {
      "cell_type": "markdown",
      "source": [
        "median,std,percentage,min,max"
      ],
      "metadata": {
        "id": "QgZTnx-cyYgg"
      }
    },
    {
      "cell_type": "code",
      "source": [
        "array1 = np.array([1,2,3,4,5])\n",
        "median = np.median(array1)\n",
        "print(median)\n",
        "std = np.std(array1)\n",
        "print(std)\n",
        "std_marks = np.percentile(marks,80)\n",
        "print(std_marks)\n",
        "std_marks = np.min(marks)\n",
        "print(std_marks)\n",
        "std_marks = np.max(marks)\n",
        "print(std_marks)\n",
        "arr = np.array([[10,20,30], [40,50,60]])\n",
        "print(arr.nbytes)"
      ],
      "metadata": {
        "colab": {
          "base_uri": "https://localhost:8080/"
        },
        "id": "n2VYUqBbyaBu",
        "outputId": "34b15dab-557e-410d-a509-c8e9f362fb96"
      },
      "execution_count": 20,
      "outputs": [
        {
          "output_type": "stream",
          "name": "stdout",
          "text": [
            "3.0\n",
            "1.4142135623730951\n",
            "42.0\n",
            "10\n",
            "50\n",
            "48\n"
          ]
        }
      ]
    },
    {
      "cell_type": "markdown",
      "source": [],
      "metadata": {
        "id": "7wjK2bOlzOwv"
      }
    },
    {
      "cell_type": "markdown",
      "source": [],
      "metadata": {
        "id": "B6QZeLLbzGCm"
      }
    }
  ]
}